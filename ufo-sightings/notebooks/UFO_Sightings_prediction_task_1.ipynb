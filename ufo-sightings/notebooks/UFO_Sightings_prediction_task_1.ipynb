{
  "nbformat": 4,
  "nbformat_minor": 0,
  "metadata": {
    "colab": {
      "provenance": []
    },
    "kernelspec": {
      "name": "python3",
      "display_name": "Python 3"
    },
    "language_info": {
      "name": "python"
    }
  },
  "cells": [
    {
      "cell_type": "markdown",
      "source": [
        "# Task 1 – Predicting UFO Sightings\n",
        "\n",
        "This notebook develops a predictive model to estimate the number of UFO sightings per state per year using historical and temporal features.  \n",
        "The data comes from the [NUFORC UFO Sightings dataset](https://www.kaggle.com/datasets/NUFORC/ufo-sightings).\n",
        "\n",
        "### Steps:\n",
        "- Data cleaning and preprocessing\n",
        "- Feature engineering (e.g., shape proportions, rolling averages, time indicators)\n",
        "- Model training (Random Forest)\n",
        "- Performance evaluation and interpretation of feature importance\n",
        "\n",
        "### Summary and Evaluation:\n",
        "- RMSE: 31.17\n",
        "- MAE: 9.86\n",
        "- R²: 0.695\n",
        "- The model performed well, with no major signs of overfitting (Train R² ≈ 0.742)\n",
        "\n",
        "### Feature Importance:\n",
        "Key features included:\n",
        "- Shape frequency from 3 years prior (e.g., `cross_prev3`, `chevron_prev3`)\n",
        "- Average log duration (`avg_log_duration_prev3`)\n",
        "- Temporal indicators like `night_prev3`, `weekday_prev3`\n",
        "\n",
        "### Recommendations:\n",
        "- Use cross-validation or time-aware train/test split\n",
        "- Try additional models like XGBoost\n",
        "- Add external data (e.g., state population)\n",
        "- Remove redundant or noisy features"
      ],
      "metadata": {
        "id": "fMH7DYvAhu5F"
      }
    },
    {
      "cell_type": "markdown",
      "source": [
        "**Import**"
      ],
      "metadata": {
        "id": "pFMiTZqchhqe"
      }
    },
    {
      "cell_type": "code",
      "source": [
        "!pip install pycountry\n",
        "import pandas as pd\n",
        "import numpy as np\n",
        "import re\n",
        "import pycountry\n",
        "from sklearn.model_selection import train_test_split\n",
        "from sklearn.ensemble import RandomForestRegressor\n",
        "from sklearn.metrics import mean_squared_error, mean_absolute_error, r2_score\n",
        "import matplotlib.pyplot as plt\n",
        "import seaborn as sns"
      ],
      "metadata": {
        "id": "02LeWyo8hhXR",
        "colab": {
          "base_uri": "https://localhost:8080/"
        },
        "outputId": "864c59e4-11a2-4eac-f048-3b81476c284a"
      },
      "execution_count": 2,
      "outputs": [
        {
          "output_type": "stream",
          "name": "stdout",
          "text": [
            "Collecting pycountry\n",
            "  Downloading pycountry-24.6.1-py3-none-any.whl.metadata (12 kB)\n",
            "Downloading pycountry-24.6.1-py3-none-any.whl (6.3 MB)\n",
            "\u001b[2K   \u001b[90m━━━━━━━━━━━━━━━━━━━━━━━━━━━━━━━━━━━━━━━━\u001b[0m \u001b[32m6.3/6.3 MB\u001b[0m \u001b[31m34.1 MB/s\u001b[0m eta \u001b[36m0:00:00\u001b[0m\n",
            "\u001b[?25hInstalling collected packages: pycountry\n",
            "Successfully installed pycountry-24.6.1\n"
          ]
        }
      ]
    },
    {
      "cell_type": "markdown",
      "source": [
        "**connect to drive and read the file**"
      ],
      "metadata": {
        "id": "4fm5DEsewsQV"
      }
    },
    {
      "cell_type": "code",
      "execution_count": 3,
      "metadata": {
        "colab": {
          "base_uri": "https://localhost:8080/"
        },
        "id": "vkpkBH8UgzSR",
        "outputId": "7028d3d9-39af-4623-c549-5ebc7a58c8ef",
        "collapsed": true
      },
      "outputs": [
        {
          "output_type": "stream",
          "name": "stdout",
          "text": [
            "Mounted at /content/drive\n"
          ]
        }
      ],
      "source": [
        "from google.colab import drive\n",
        "drive.mount('/content/drive')"
      ]
    },
    {
      "cell_type": "code",
      "source": [
        "df = pd.read_csv('/content/drive/MyDrive/UFCDATA.csv', encoding='latin1')"
      ],
      "metadata": {
        "colab": {
          "base_uri": "https://localhost:8080/"
        },
        "id": "CM3TZfHkg9V1",
        "outputId": "098236b0-2f8b-4be1-cf27-f12549b0b1e6",
        "collapsed": true
      },
      "execution_count": 4,
      "outputs": [
        {
          "output_type": "stream",
          "name": "stderr",
          "text": [
            "<ipython-input-4-510d2be315e6>:1: DtypeWarning: Columns (5) have mixed types. Specify dtype option on import or set low_memory=False.\n",
            "  df = pd.read_csv('/content/drive/MyDrive/UFCDATA.csv', encoding='latin1')\n"
          ]
        }
      ]
    },
    {
      "cell_type": "markdown",
      "source": [
        "**See the data**"
      ],
      "metadata": {
        "id": "EFlt8xcHw5qy"
      }
    },
    {
      "cell_type": "code",
      "source": [
        "df.info()"
      ],
      "metadata": {
        "colab": {
          "base_uri": "https://localhost:8080/"
        },
        "id": "MZm3bpv6jCGA",
        "outputId": "8e4c4349-caf4-43c9-a209-725829f7ee45"
      },
      "execution_count": 5,
      "outputs": [
        {
          "output_type": "stream",
          "name": "stdout",
          "text": [
            "<class 'pandas.core.frame.DataFrame'>\n",
            "RangeIndex: 88875 entries, 0 to 88874\n",
            "Data columns (total 12 columns):\n",
            " #   Column                Non-Null Count  Dtype  \n",
            "---  ------                --------------  -----  \n",
            " 0   datetime              88875 non-null  object \n",
            " 1   city                  88679 non-null  object \n",
            " 2   state                 81356 non-null  object \n",
            " 3   country               76314 non-null  object \n",
            " 4   shape                 85757 non-null  object \n",
            " 5   duration (seconds)    88873 non-null  object \n",
            " 6   duration (hours/min)  85772 non-null  object \n",
            " 7   comments              88749 non-null  object \n",
            " 8   date posted           88875 non-null  object \n",
            " 9   latitude              88875 non-null  object \n",
            " 10  longitude             88875 non-null  float64\n",
            " 11  Unnamed: 11           195 non-null    float64\n",
            "dtypes: float64(2), object(10)\n",
            "memory usage: 8.1+ MB\n"
          ]
        }
      ]
    },
    {
      "cell_type": "code",
      "source": [
        "df"
      ],
      "metadata": {
        "colab": {
          "base_uri": "https://localhost:8080/",
          "height": 1000
        },
        "id": "xOnx8lObjv4B",
        "outputId": "a7af0868-079c-4509-fd30-e0d63f98c809"
      },
      "execution_count": 6,
      "outputs": [
        {
          "output_type": "execute_result",
          "data": {
            "text/plain": [
              "               datetime                  city state country     shape  \\\n",
              "0      10/10/1949 20:30            san marcos    tx      us  cylinder   \n",
              "1      10/10/1949 21:00          lackland afb    tx     NaN     light   \n",
              "2      10/10/1955 17:00  chester (uk/england)   NaN      gb    circle   \n",
              "3      10/10/1956 21:00                  edna    tx      us    circle   \n",
              "4      10/10/1960 20:00               kaneohe    hi      us     light   \n",
              "...                 ...                   ...   ...     ...       ...   \n",
              "88870  09/09/2013 22:00                  napa    ca      us     other   \n",
              "88871  09/09/2013 22:20                vienna    va      us    circle   \n",
              "88872  09/09/2013 23:00                edmond    ok      us     cigar   \n",
              "88873  09/09/2013 23:00                 starr    sc      us   diamond   \n",
              "88874  09/09/2013 23:30        ft. lauderdale    fl      us      oval   \n",
              "\n",
              "      duration (seconds) duration (hours/min)  \\\n",
              "0                   2700           45 minutes   \n",
              "1                   7200              1-2 hrs   \n",
              "2                     20           20 seconds   \n",
              "3                     20             1/2 hour   \n",
              "4                    900           15 minutes   \n",
              "...                  ...                  ...   \n",
              "88870             1200.0                 hour   \n",
              "88871                5.0            5 seconds   \n",
              "88872             1020.0           17 minutes   \n",
              "88873                0.0             2 nights   \n",
              "88874                0.0       still occuring   \n",
              "\n",
              "                                                comments date posted  \\\n",
              "0      This event took place in early fall around 194...   4/27/2004   \n",
              "1      1949 Lackland AFB&#44 TX.  Lights racing acros...  12/16/2005   \n",
              "2      Green/Orange circular disc over Chester&#44 En...   1/21/2008   \n",
              "3      My older brother and twin sister were leaving ...   1/17/2004   \n",
              "4      AS a Marine 1st Lt. flying an FJ4B fighter/att...   1/22/2004   \n",
              "...                                                  ...         ...   \n",
              "88870                                       Napa UFO&#44   9/30/2013   \n",
              "88871  Saw a five gold lit cicular craft moving fastl...   9/30/2013   \n",
              "88872  2 witnesses 2  miles apart&#44 Red &amp; White...   9/30/2013   \n",
              "88873  On September ninth my wife and i noticed stran...   9/30/2013   \n",
              "88874  Hovering object lit with red and white lights&...   9/30/2013   \n",
              "\n",
              "         latitude   longitude  Unnamed: 11  \n",
              "0      29.8830556  -97.941111          NaN  \n",
              "1        29.38421  -98.581082          NaN  \n",
              "2            53.2   -2.916667          NaN  \n",
              "3      28.9783333  -96.645833          NaN  \n",
              "4      21.4180556 -157.803611          NaN  \n",
              "...           ...         ...          ...  \n",
              "88870  38.2972222 -122.284444          NaN  \n",
              "88871  38.9011111  -77.265556          NaN  \n",
              "88872  35.6527778  -97.477778          NaN  \n",
              "88873  34.3769444  -82.695833          NaN  \n",
              "88874  26.1219444  -80.143611          NaN  \n",
              "\n",
              "[88875 rows x 12 columns]"
            ],
            "text/html": [
              "\n",
              "  <div id=\"df-66529403-9ea7-43df-ab05-833ab3e6f45c\" class=\"colab-df-container\">\n",
              "    <div>\n",
              "<style scoped>\n",
              "    .dataframe tbody tr th:only-of-type {\n",
              "        vertical-align: middle;\n",
              "    }\n",
              "\n",
              "    .dataframe tbody tr th {\n",
              "        vertical-align: top;\n",
              "    }\n",
              "\n",
              "    .dataframe thead th {\n",
              "        text-align: right;\n",
              "    }\n",
              "</style>\n",
              "<table border=\"1\" class=\"dataframe\">\n",
              "  <thead>\n",
              "    <tr style=\"text-align: right;\">\n",
              "      <th></th>\n",
              "      <th>datetime</th>\n",
              "      <th>city</th>\n",
              "      <th>state</th>\n",
              "      <th>country</th>\n",
              "      <th>shape</th>\n",
              "      <th>duration (seconds)</th>\n",
              "      <th>duration (hours/min)</th>\n",
              "      <th>comments</th>\n",
              "      <th>date posted</th>\n",
              "      <th>latitude</th>\n",
              "      <th>longitude</th>\n",
              "      <th>Unnamed: 11</th>\n",
              "    </tr>\n",
              "  </thead>\n",
              "  <tbody>\n",
              "    <tr>\n",
              "      <th>0</th>\n",
              "      <td>10/10/1949 20:30</td>\n",
              "      <td>san marcos</td>\n",
              "      <td>tx</td>\n",
              "      <td>us</td>\n",
              "      <td>cylinder</td>\n",
              "      <td>2700</td>\n",
              "      <td>45 minutes</td>\n",
              "      <td>This event took place in early fall around 194...</td>\n",
              "      <td>4/27/2004</td>\n",
              "      <td>29.8830556</td>\n",
              "      <td>-97.941111</td>\n",
              "      <td>NaN</td>\n",
              "    </tr>\n",
              "    <tr>\n",
              "      <th>1</th>\n",
              "      <td>10/10/1949 21:00</td>\n",
              "      <td>lackland afb</td>\n",
              "      <td>tx</td>\n",
              "      <td>NaN</td>\n",
              "      <td>light</td>\n",
              "      <td>7200</td>\n",
              "      <td>1-2 hrs</td>\n",
              "      <td>1949 Lackland AFB&amp;#44 TX.  Lights racing acros...</td>\n",
              "      <td>12/16/2005</td>\n",
              "      <td>29.38421</td>\n",
              "      <td>-98.581082</td>\n",
              "      <td>NaN</td>\n",
              "    </tr>\n",
              "    <tr>\n",
              "      <th>2</th>\n",
              "      <td>10/10/1955 17:00</td>\n",
              "      <td>chester (uk/england)</td>\n",
              "      <td>NaN</td>\n",
              "      <td>gb</td>\n",
              "      <td>circle</td>\n",
              "      <td>20</td>\n",
              "      <td>20 seconds</td>\n",
              "      <td>Green/Orange circular disc over Chester&amp;#44 En...</td>\n",
              "      <td>1/21/2008</td>\n",
              "      <td>53.2</td>\n",
              "      <td>-2.916667</td>\n",
              "      <td>NaN</td>\n",
              "    </tr>\n",
              "    <tr>\n",
              "      <th>3</th>\n",
              "      <td>10/10/1956 21:00</td>\n",
              "      <td>edna</td>\n",
              "      <td>tx</td>\n",
              "      <td>us</td>\n",
              "      <td>circle</td>\n",
              "      <td>20</td>\n",
              "      <td>1/2 hour</td>\n",
              "      <td>My older brother and twin sister were leaving ...</td>\n",
              "      <td>1/17/2004</td>\n",
              "      <td>28.9783333</td>\n",
              "      <td>-96.645833</td>\n",
              "      <td>NaN</td>\n",
              "    </tr>\n",
              "    <tr>\n",
              "      <th>4</th>\n",
              "      <td>10/10/1960 20:00</td>\n",
              "      <td>kaneohe</td>\n",
              "      <td>hi</td>\n",
              "      <td>us</td>\n",
              "      <td>light</td>\n",
              "      <td>900</td>\n",
              "      <td>15 minutes</td>\n",
              "      <td>AS a Marine 1st Lt. flying an FJ4B fighter/att...</td>\n",
              "      <td>1/22/2004</td>\n",
              "      <td>21.4180556</td>\n",
              "      <td>-157.803611</td>\n",
              "      <td>NaN</td>\n",
              "    </tr>\n",
              "    <tr>\n",
              "      <th>...</th>\n",
              "      <td>...</td>\n",
              "      <td>...</td>\n",
              "      <td>...</td>\n",
              "      <td>...</td>\n",
              "      <td>...</td>\n",
              "      <td>...</td>\n",
              "      <td>...</td>\n",
              "      <td>...</td>\n",
              "      <td>...</td>\n",
              "      <td>...</td>\n",
              "      <td>...</td>\n",
              "      <td>...</td>\n",
              "    </tr>\n",
              "    <tr>\n",
              "      <th>88870</th>\n",
              "      <td>09/09/2013 22:00</td>\n",
              "      <td>napa</td>\n",
              "      <td>ca</td>\n",
              "      <td>us</td>\n",
              "      <td>other</td>\n",
              "      <td>1200.0</td>\n",
              "      <td>hour</td>\n",
              "      <td>Napa UFO&amp;#44</td>\n",
              "      <td>9/30/2013</td>\n",
              "      <td>38.2972222</td>\n",
              "      <td>-122.284444</td>\n",
              "      <td>NaN</td>\n",
              "    </tr>\n",
              "    <tr>\n",
              "      <th>88871</th>\n",
              "      <td>09/09/2013 22:20</td>\n",
              "      <td>vienna</td>\n",
              "      <td>va</td>\n",
              "      <td>us</td>\n",
              "      <td>circle</td>\n",
              "      <td>5.0</td>\n",
              "      <td>5 seconds</td>\n",
              "      <td>Saw a five gold lit cicular craft moving fastl...</td>\n",
              "      <td>9/30/2013</td>\n",
              "      <td>38.9011111</td>\n",
              "      <td>-77.265556</td>\n",
              "      <td>NaN</td>\n",
              "    </tr>\n",
              "    <tr>\n",
              "      <th>88872</th>\n",
              "      <td>09/09/2013 23:00</td>\n",
              "      <td>edmond</td>\n",
              "      <td>ok</td>\n",
              "      <td>us</td>\n",
              "      <td>cigar</td>\n",
              "      <td>1020.0</td>\n",
              "      <td>17 minutes</td>\n",
              "      <td>2 witnesses 2  miles apart&amp;#44 Red &amp;amp; White...</td>\n",
              "      <td>9/30/2013</td>\n",
              "      <td>35.6527778</td>\n",
              "      <td>-97.477778</td>\n",
              "      <td>NaN</td>\n",
              "    </tr>\n",
              "    <tr>\n",
              "      <th>88873</th>\n",
              "      <td>09/09/2013 23:00</td>\n",
              "      <td>starr</td>\n",
              "      <td>sc</td>\n",
              "      <td>us</td>\n",
              "      <td>diamond</td>\n",
              "      <td>0.0</td>\n",
              "      <td>2 nights</td>\n",
              "      <td>On September ninth my wife and i noticed stran...</td>\n",
              "      <td>9/30/2013</td>\n",
              "      <td>34.3769444</td>\n",
              "      <td>-82.695833</td>\n",
              "      <td>NaN</td>\n",
              "    </tr>\n",
              "    <tr>\n",
              "      <th>88874</th>\n",
              "      <td>09/09/2013 23:30</td>\n",
              "      <td>ft. lauderdale</td>\n",
              "      <td>fl</td>\n",
              "      <td>us</td>\n",
              "      <td>oval</td>\n",
              "      <td>0.0</td>\n",
              "      <td>still occuring</td>\n",
              "      <td>Hovering object lit with red and white lights&amp;...</td>\n",
              "      <td>9/30/2013</td>\n",
              "      <td>26.1219444</td>\n",
              "      <td>-80.143611</td>\n",
              "      <td>NaN</td>\n",
              "    </tr>\n",
              "  </tbody>\n",
              "</table>\n",
              "<p>88875 rows × 12 columns</p>\n",
              "</div>\n",
              "    <div class=\"colab-df-buttons\">\n",
              "\n",
              "  <div class=\"colab-df-container\">\n",
              "    <button class=\"colab-df-convert\" onclick=\"convertToInteractive('df-66529403-9ea7-43df-ab05-833ab3e6f45c')\"\n",
              "            title=\"Convert this dataframe to an interactive table.\"\n",
              "            style=\"display:none;\">\n",
              "\n",
              "  <svg xmlns=\"http://www.w3.org/2000/svg\" height=\"24px\" viewBox=\"0 -960 960 960\">\n",
              "    <path d=\"M120-120v-720h720v720H120Zm60-500h600v-160H180v160Zm220 220h160v-160H400v160Zm0 220h160v-160H400v160ZM180-400h160v-160H180v160Zm440 0h160v-160H620v160ZM180-180h160v-160H180v160Zm440 0h160v-160H620v160Z\"/>\n",
              "  </svg>\n",
              "    </button>\n",
              "\n",
              "  <style>\n",
              "    .colab-df-container {\n",
              "      display:flex;\n",
              "      gap: 12px;\n",
              "    }\n",
              "\n",
              "    .colab-df-convert {\n",
              "      background-color: #E8F0FE;\n",
              "      border: none;\n",
              "      border-radius: 50%;\n",
              "      cursor: pointer;\n",
              "      display: none;\n",
              "      fill: #1967D2;\n",
              "      height: 32px;\n",
              "      padding: 0 0 0 0;\n",
              "      width: 32px;\n",
              "    }\n",
              "\n",
              "    .colab-df-convert:hover {\n",
              "      background-color: #E2EBFA;\n",
              "      box-shadow: 0px 1px 2px rgba(60, 64, 67, 0.3), 0px 1px 3px 1px rgba(60, 64, 67, 0.15);\n",
              "      fill: #174EA6;\n",
              "    }\n",
              "\n",
              "    .colab-df-buttons div {\n",
              "      margin-bottom: 4px;\n",
              "    }\n",
              "\n",
              "    [theme=dark] .colab-df-convert {\n",
              "      background-color: #3B4455;\n",
              "      fill: #D2E3FC;\n",
              "    }\n",
              "\n",
              "    [theme=dark] .colab-df-convert:hover {\n",
              "      background-color: #434B5C;\n",
              "      box-shadow: 0px 1px 3px 1px rgba(0, 0, 0, 0.15);\n",
              "      filter: drop-shadow(0px 1px 2px rgba(0, 0, 0, 0.3));\n",
              "      fill: #FFFFFF;\n",
              "    }\n",
              "  </style>\n",
              "\n",
              "    <script>\n",
              "      const buttonEl =\n",
              "        document.querySelector('#df-66529403-9ea7-43df-ab05-833ab3e6f45c button.colab-df-convert');\n",
              "      buttonEl.style.display =\n",
              "        google.colab.kernel.accessAllowed ? 'block' : 'none';\n",
              "\n",
              "      async function convertToInteractive(key) {\n",
              "        const element = document.querySelector('#df-66529403-9ea7-43df-ab05-833ab3e6f45c');\n",
              "        const dataTable =\n",
              "          await google.colab.kernel.invokeFunction('convertToInteractive',\n",
              "                                                    [key], {});\n",
              "        if (!dataTable) return;\n",
              "\n",
              "        const docLinkHtml = 'Like what you see? Visit the ' +\n",
              "          '<a target=\"_blank\" href=https://colab.research.google.com/notebooks/data_table.ipynb>data table notebook</a>'\n",
              "          + ' to learn more about interactive tables.';\n",
              "        element.innerHTML = '';\n",
              "        dataTable['output_type'] = 'display_data';\n",
              "        await google.colab.output.renderOutput(dataTable, element);\n",
              "        const docLink = document.createElement('div');\n",
              "        docLink.innerHTML = docLinkHtml;\n",
              "        element.appendChild(docLink);\n",
              "      }\n",
              "    </script>\n",
              "  </div>\n",
              "\n",
              "\n",
              "    <div id=\"df-149fff22-6998-4b84-8a70-db31126f2738\">\n",
              "      <button class=\"colab-df-quickchart\" onclick=\"quickchart('df-149fff22-6998-4b84-8a70-db31126f2738')\"\n",
              "                title=\"Suggest charts\"\n",
              "                style=\"display:none;\">\n",
              "\n",
              "<svg xmlns=\"http://www.w3.org/2000/svg\" height=\"24px\"viewBox=\"0 0 24 24\"\n",
              "     width=\"24px\">\n",
              "    <g>\n",
              "        <path d=\"M19 3H5c-1.1 0-2 .9-2 2v14c0 1.1.9 2 2 2h14c1.1 0 2-.9 2-2V5c0-1.1-.9-2-2-2zM9 17H7v-7h2v7zm4 0h-2V7h2v10zm4 0h-2v-4h2v4z\"/>\n",
              "    </g>\n",
              "</svg>\n",
              "      </button>\n",
              "\n",
              "<style>\n",
              "  .colab-df-quickchart {\n",
              "      --bg-color: #E8F0FE;\n",
              "      --fill-color: #1967D2;\n",
              "      --hover-bg-color: #E2EBFA;\n",
              "      --hover-fill-color: #174EA6;\n",
              "      --disabled-fill-color: #AAA;\n",
              "      --disabled-bg-color: #DDD;\n",
              "  }\n",
              "\n",
              "  [theme=dark] .colab-df-quickchart {\n",
              "      --bg-color: #3B4455;\n",
              "      --fill-color: #D2E3FC;\n",
              "      --hover-bg-color: #434B5C;\n",
              "      --hover-fill-color: #FFFFFF;\n",
              "      --disabled-bg-color: #3B4455;\n",
              "      --disabled-fill-color: #666;\n",
              "  }\n",
              "\n",
              "  .colab-df-quickchart {\n",
              "    background-color: var(--bg-color);\n",
              "    border: none;\n",
              "    border-radius: 50%;\n",
              "    cursor: pointer;\n",
              "    display: none;\n",
              "    fill: var(--fill-color);\n",
              "    height: 32px;\n",
              "    padding: 0;\n",
              "    width: 32px;\n",
              "  }\n",
              "\n",
              "  .colab-df-quickchart:hover {\n",
              "    background-color: var(--hover-bg-color);\n",
              "    box-shadow: 0 1px 2px rgba(60, 64, 67, 0.3), 0 1px 3px 1px rgba(60, 64, 67, 0.15);\n",
              "    fill: var(--button-hover-fill-color);\n",
              "  }\n",
              "\n",
              "  .colab-df-quickchart-complete:disabled,\n",
              "  .colab-df-quickchart-complete:disabled:hover {\n",
              "    background-color: var(--disabled-bg-color);\n",
              "    fill: var(--disabled-fill-color);\n",
              "    box-shadow: none;\n",
              "  }\n",
              "\n",
              "  .colab-df-spinner {\n",
              "    border: 2px solid var(--fill-color);\n",
              "    border-color: transparent;\n",
              "    border-bottom-color: var(--fill-color);\n",
              "    animation:\n",
              "      spin 1s steps(1) infinite;\n",
              "  }\n",
              "\n",
              "  @keyframes spin {\n",
              "    0% {\n",
              "      border-color: transparent;\n",
              "      border-bottom-color: var(--fill-color);\n",
              "      border-left-color: var(--fill-color);\n",
              "    }\n",
              "    20% {\n",
              "      border-color: transparent;\n",
              "      border-left-color: var(--fill-color);\n",
              "      border-top-color: var(--fill-color);\n",
              "    }\n",
              "    30% {\n",
              "      border-color: transparent;\n",
              "      border-left-color: var(--fill-color);\n",
              "      border-top-color: var(--fill-color);\n",
              "      border-right-color: var(--fill-color);\n",
              "    }\n",
              "    40% {\n",
              "      border-color: transparent;\n",
              "      border-right-color: var(--fill-color);\n",
              "      border-top-color: var(--fill-color);\n",
              "    }\n",
              "    60% {\n",
              "      border-color: transparent;\n",
              "      border-right-color: var(--fill-color);\n",
              "    }\n",
              "    80% {\n",
              "      border-color: transparent;\n",
              "      border-right-color: var(--fill-color);\n",
              "      border-bottom-color: var(--fill-color);\n",
              "    }\n",
              "    90% {\n",
              "      border-color: transparent;\n",
              "      border-bottom-color: var(--fill-color);\n",
              "    }\n",
              "  }\n",
              "</style>\n",
              "\n",
              "      <script>\n",
              "        async function quickchart(key) {\n",
              "          const quickchartButtonEl =\n",
              "            document.querySelector('#' + key + ' button');\n",
              "          quickchartButtonEl.disabled = true;  // To prevent multiple clicks.\n",
              "          quickchartButtonEl.classList.add('colab-df-spinner');\n",
              "          try {\n",
              "            const charts = await google.colab.kernel.invokeFunction(\n",
              "                'suggestCharts', [key], {});\n",
              "          } catch (error) {\n",
              "            console.error('Error during call to suggestCharts:', error);\n",
              "          }\n",
              "          quickchartButtonEl.classList.remove('colab-df-spinner');\n",
              "          quickchartButtonEl.classList.add('colab-df-quickchart-complete');\n",
              "        }\n",
              "        (() => {\n",
              "          let quickchartButtonEl =\n",
              "            document.querySelector('#df-149fff22-6998-4b84-8a70-db31126f2738 button');\n",
              "          quickchartButtonEl.style.display =\n",
              "            google.colab.kernel.accessAllowed ? 'block' : 'none';\n",
              "        })();\n",
              "      </script>\n",
              "    </div>\n",
              "\n",
              "  <div id=\"id_860cd13b-5df7-4ef9-9a41-063efcababeb\">\n",
              "    <style>\n",
              "      .colab-df-generate {\n",
              "        background-color: #E8F0FE;\n",
              "        border: none;\n",
              "        border-radius: 50%;\n",
              "        cursor: pointer;\n",
              "        display: none;\n",
              "        fill: #1967D2;\n",
              "        height: 32px;\n",
              "        padding: 0 0 0 0;\n",
              "        width: 32px;\n",
              "      }\n",
              "\n",
              "      .colab-df-generate:hover {\n",
              "        background-color: #E2EBFA;\n",
              "        box-shadow: 0px 1px 2px rgba(60, 64, 67, 0.3), 0px 1px 3px 1px rgba(60, 64, 67, 0.15);\n",
              "        fill: #174EA6;\n",
              "      }\n",
              "\n",
              "      [theme=dark] .colab-df-generate {\n",
              "        background-color: #3B4455;\n",
              "        fill: #D2E3FC;\n",
              "      }\n",
              "\n",
              "      [theme=dark] .colab-df-generate:hover {\n",
              "        background-color: #434B5C;\n",
              "        box-shadow: 0px 1px 3px 1px rgba(0, 0, 0, 0.15);\n",
              "        filter: drop-shadow(0px 1px 2px rgba(0, 0, 0, 0.3));\n",
              "        fill: #FFFFFF;\n",
              "      }\n",
              "    </style>\n",
              "    <button class=\"colab-df-generate\" onclick=\"generateWithVariable('df')\"\n",
              "            title=\"Generate code using this dataframe.\"\n",
              "            style=\"display:none;\">\n",
              "\n",
              "  <svg xmlns=\"http://www.w3.org/2000/svg\" height=\"24px\"viewBox=\"0 0 24 24\"\n",
              "       width=\"24px\">\n",
              "    <path d=\"M7,19H8.4L18.45,9,17,7.55,7,17.6ZM5,21V16.75L18.45,3.32a2,2,0,0,1,2.83,0l1.4,1.43a1.91,1.91,0,0,1,.58,1.4,1.91,1.91,0,0,1-.58,1.4L9.25,21ZM18.45,9,17,7.55Zm-12,3A5.31,5.31,0,0,0,4.9,8.1,5.31,5.31,0,0,0,1,6.5,5.31,5.31,0,0,0,4.9,4.9,5.31,5.31,0,0,0,6.5,1,5.31,5.31,0,0,0,8.1,4.9,5.31,5.31,0,0,0,12,6.5,5.46,5.46,0,0,0,6.5,12Z\"/>\n",
              "  </svg>\n",
              "    </button>\n",
              "    <script>\n",
              "      (() => {\n",
              "      const buttonEl =\n",
              "        document.querySelector('#id_860cd13b-5df7-4ef9-9a41-063efcababeb button.colab-df-generate');\n",
              "      buttonEl.style.display =\n",
              "        google.colab.kernel.accessAllowed ? 'block' : 'none';\n",
              "\n",
              "      buttonEl.onclick = () => {\n",
              "        google.colab.notebook.generateWithVariable('df');\n",
              "      }\n",
              "      })();\n",
              "    </script>\n",
              "  </div>\n",
              "\n",
              "    </div>\n",
              "  </div>\n"
            ],
            "application/vnd.google.colaboratory.intrinsic+json": {
              "type": "dataframe",
              "variable_name": "df",
              "summary": "{\n  \"name\": \"df\",\n  \"rows\": 88875,\n  \"fields\": [\n    {\n      \"column\": \"datetime\",\n      \"properties\": {\n        \"dtype\": \"string\",\n        \"num_unique_values\": 76305,\n        \"samples\": [\n          \"05/01/2010 22:00\",\n          \"6/18/2008 18:30\",\n          \"7/18/2005 11:30\"\n        ],\n        \"semantic_type\": \"\",\n        \"description\": \"\"\n      }\n    },\n    {\n      \"column\": \"city\",\n      \"properties\": {\n        \"dtype\": \"category\",\n        \"num_unique_values\": 22018,\n        \"samples\": [\n          \"frankfort\",\n          \"yakima indian reservation\",\n          \"trinidad (location unspecified)\"\n        ],\n        \"semantic_type\": \"\",\n        \"description\": \"\"\n      }\n    },\n    {\n      \"column\": \"state\",\n      \"properties\": {\n        \"dtype\": \"category\",\n        \"num_unique_values\": 68,\n        \"samples\": [\n          \"ak\",\n          \"ab\",\n          \"al\"\n        ],\n        \"semantic_type\": \"\",\n        \"description\": \"\"\n      }\n    },\n    {\n      \"column\": \"country\",\n      \"properties\": {\n        \"dtype\": \"category\",\n        \"num_unique_values\": 5,\n        \"samples\": [\n          \"gb\",\n          \"de\",\n          \"ca\"\n        ],\n        \"semantic_type\": \"\",\n        \"description\": \"\"\n      }\n    },\n    {\n      \"column\": \"shape\",\n      \"properties\": {\n        \"dtype\": \"category\",\n        \"num_unique_values\": 29,\n        \"samples\": [\n          \"dome\",\n          \"egg\",\n          \"triangle\"\n        ],\n        \"semantic_type\": \"\",\n        \"description\": \"\"\n      }\n    },\n    {\n      \"column\": \"duration (seconds)\",\n      \"properties\": {\n        \"dtype\": \"category\",\n        \"num_unique_values\": 730,\n        \"samples\": [\n          5.0,\n          \"7800\",\n          \"603\"\n        ],\n        \"semantic_type\": \"\",\n        \"description\": \"\"\n      }\n    },\n    {\n      \"column\": \"duration (hours/min)\",\n      \"properties\": {\n        \"dtype\": \"category\",\n        \"num_unique_values\": 9723,\n        \"samples\": [\n          \"5:30min\",\n          \"2015\",\n          \"55 min.\"\n        ],\n        \"semantic_type\": \"\",\n        \"description\": \"\"\n      }\n    },\n    {\n      \"column\": \"comments\",\n      \"properties\": {\n        \"dtype\": \"string\",\n        \"num_unique_values\": 88348,\n        \"samples\": [\n          \"Near collison with vehicle disc bright white lifted car whislt waiting traffic lights Sydney Australia\",\n          \"Recently my friends and I were on a mission trip just outside of Fort Madison&#44 Iowa. We had just finished doing some work on a house wh\",\n          \"Oval brilliant blue light fell silently straight down from 30 degrees to the horizon after a UFO talk\"\n        ],\n        \"semantic_type\": \"\",\n        \"description\": \"\"\n      }\n    },\n    {\n      \"column\": \"date posted\",\n      \"properties\": {\n        \"dtype\": \"category\",\n        \"num_unique_values\": 513,\n        \"samples\": [\n          \"08/04/2003\",\n          \"I saw an orb like UFO while on vacation.\",\n          \"only sighted momemtarily for an instant - next recollection is of waking up hours later.\"\n        ],\n        \"semantic_type\": \"\",\n        \"description\": \"\"\n      }\n    },\n    {\n      \"column\": \"latitude\",\n      \"properties\": {\n        \"dtype\": \"category\",\n        \"num_unique_values\": 19545,\n        \"samples\": [\n          \"36.7902778\",\n          \"51.46\",\n          \"28.27057\"\n        ],\n        \"semantic_type\": \"\",\n        \"description\": \"\"\n      }\n    },\n    {\n      \"column\": \"longitude\",\n      \"properties\": {\n        \"dtype\": \"number\",\n        \"std\": 41.567822109066974,\n        \"min\": -176.6580556,\n        \"max\": 178.4419,\n        \"num_unique_values\": 20549,\n        \"samples\": [\n          -80.9113889,\n          -122.2708333,\n          -88.8183333\n        ],\n        \"semantic_type\": \"\",\n        \"description\": \"\"\n      }\n    },\n    {\n      \"column\": \"Unnamed: 11\",\n      \"properties\": {\n        \"dtype\": \"number\",\n        \"std\": 0.0,\n        \"min\": 0.0,\n        \"max\": 0.0,\n        \"num_unique_values\": 1,\n        \"samples\": [\n          0.0\n        ],\n        \"semantic_type\": \"\",\n        \"description\": \"\"\n      }\n    }\n  ]\n}"
            }
          },
          "metadata": {},
          "execution_count": 6
        }
      ]
    },
    {
      "cell_type": "markdown",
      "source": [
        "**Clean up and organize the data**"
      ],
      "metadata": {
        "id": "imkzoUL9jkSd"
      }
    },
    {
      "cell_type": "markdown",
      "source": [
        "**clean and fix datetime -**\n"
      ],
      "metadata": {
        "id": "pByHUr0XpM1M"
      }
    },
    {
      "cell_type": "markdown",
      "source": [
        "The original datetime column contained numerous invalid or inconsistent entries, including missing values, numeric Excel-style date codes and strings with malformed formats (\"24:00\" as a time value).\n",
        "To address this, I first converted valid date strings using pd.to_datetime.\n",
        "Then, for rows where the date was a numeric value representing days since December 30, 1899 (as in Excel), I applied a separate conversion.\n",
        "I fixed entries with \"24:00\" by replacing it with \"00:00\" and incrementing the date by one day."
      ],
      "metadata": {
        "id": "rM4oeLs_zaG0"
      }
    },
    {
      "cell_type": "code",
      "source": [
        "df['datetime_fixed'] = pd.to_datetime(df['datetime'], errors='coerce')\n",
        "\n",
        "mask_failed = df['datetime_fixed'].isna()\n",
        "\n",
        "mask_excel_numbers = df.loc[mask_failed, 'datetime'].astype(str).str.match(r'^\\d+(\\.\\d+)?$')\n",
        "\n",
        "df.loc[mask_failed[mask_failed].index[mask_excel_numbers], 'datetime_fixed'] = pd.to_datetime(\n",
        "    df.loc[mask_failed[mask_failed].index[mask_excel_numbers], 'datetime'].astype(float),\n",
        "    errors='coerce',\n",
        "    origin='1899-12-30',\n",
        "    unit='D'\n",
        ")\n",
        "\n",
        "mask_24 = df['datetime'].astype(str).str.contains('24:00', na=False)\n",
        "\n",
        "fixed_24 = pd.to_datetime(\n",
        "    df.loc[mask_24, 'datetime'].astype(str).str.replace('24:00', '00:00', regex=False),\n",
        "    errors='coerce'\n",
        ")\n",
        "\n",
        "fixed_24 += pd.Timedelta(days=1)\n",
        "\n",
        "df.loc[mask_24, 'datetime_fixed'] = fixed_24\n",
        "\n",
        "df[df['datetime_fixed'].isna()]['datetime'].astype(str).value_counts()\n"
      ],
      "metadata": {
        "colab": {
          "base_uri": "https://localhost:8080/",
          "height": 115
        },
        "id": "trvki1b9jJZS",
        "outputId": "af88d741-f765-40ff-9e57-2d9a2dddea79",
        "collapsed": true
      },
      "execution_count": 7,
      "outputs": [
        {
          "output_type": "execute_result",
          "data": {
            "text/plain": [
              "Series([], Name: count, dtype: int64)"
            ],
            "text/html": [
              "<div>\n",
              "<style scoped>\n",
              "    .dataframe tbody tr th:only-of-type {\n",
              "        vertical-align: middle;\n",
              "    }\n",
              "\n",
              "    .dataframe tbody tr th {\n",
              "        vertical-align: top;\n",
              "    }\n",
              "\n",
              "    .dataframe thead th {\n",
              "        text-align: right;\n",
              "    }\n",
              "</style>\n",
              "<table border=\"1\" class=\"dataframe\">\n",
              "  <thead>\n",
              "    <tr style=\"text-align: right;\">\n",
              "      <th></th>\n",
              "      <th>count</th>\n",
              "    </tr>\n",
              "    <tr>\n",
              "      <th>datetime</th>\n",
              "      <th></th>\n",
              "    </tr>\n",
              "  </thead>\n",
              "  <tbody>\n",
              "  </tbody>\n",
              "</table>\n",
              "</div><br><label><b>dtype:</b> int64</label>"
            ]
          },
          "metadata": {},
          "execution_count": 7
        }
      ]
    },
    {
      "cell_type": "markdown",
      "source": [
        "**Parsing and Correction duration-**\n",
        "\n",
        "The duration (seconds) column included missing values (NaN) as well as String values ​​containing numbers and a hyphen after a number (2', 8').\n",
        "To clean the column, I used a regular expression to strip out all non-numeric characters except for decimal points.\n",
        "The resulting strings were converted to numeric values using pd.to_numeric, and rows with remaining invalid durations were removed.\n",
        "\n"
      ],
      "metadata": {
        "id": "eOk1o6FgpROe"
      }
    },
    {
      "cell_type": "code",
      "source": [
        "mask_not_numeric = pd.to_numeric(df['duration (seconds)'], errors='coerce').isna()\n",
        "\n",
        "df.loc[mask_not_numeric, 'duration (seconds)'].astype(str).value_counts()\n",
        "\n",
        "df['duration_clean'] = df['duration (seconds)'].astype(str) \\\n",
        "    .str.replace(r\"[^0-9.]\", \"\", regex=True) \\\n",
        "    .str.strip()\n",
        "\n",
        "df['duration_clean'] = pd.to_numeric(df['duration_clean'], errors='coerce')\n",
        "\n",
        "mask_not_numeric_after = df['duration_clean'].isna()\n",
        "\n",
        "df = df[~mask_not_numeric_after]\n"
      ],
      "metadata": {
        "id": "ITF1LZquuTKS"
      },
      "execution_count": 8,
      "outputs": []
    },
    {
      "cell_type": "markdown",
      "source": [
        "**create onr colum that represent state or county (state/county)-**\n",
        "\n",
        "Many records were missing values in the state, country, and city fields, making it difficult to geolocate the sighting.\n",
        "To address this, I created a unified state/county field.\n",
        "If a valid state was present, its value was used.\n",
        "Otherwise, the country value was used as a fallback.\n",
        "\n",
        "For rows missing both state and country, I attempted to infer the location from the city text using a custom function.\n",
        "\n",
        "This function searched for substrings in parentheses (\"city (France)\") or other patterns and matched them against a comprehensive list of known country and state codes.\n",
        "Only records with a resolved state/county value were retained for further analysis."
      ],
      "metadata": {
        "id": "Pz_TxNfOv6Jg"
      }
    },
    {
      "cell_type": "code",
      "source": [
        "mask_state = df['state'].isna()\n",
        "df['state/county'] = np.where(mask_state, df['country'], df['state'])\n",
        "\n",
        "def extract_country_or_state_from_text(text):\n",
        "    if pd.isna(text):\n",
        "        return None\n",
        "\n",
        "    text = str(text).lower()\n",
        "\n",
        "    us_state_codes = {\n",
        "        'al', 'ak', 'az', 'ar', 'ca', 'co', 'ct', 'de', 'fl', 'ga', 'hi', 'id', 'il', 'in', 'ia',\n",
        "        'ks', 'ky', 'la', 'me', 'md', 'ma', 'mi', 'mn', 'ms', 'mo', 'mt', 'ne', 'nv', 'nh', 'nj',\n",
        "        'nm', 'ny', 'nc', 'nd', 'oh', 'ok', 'or', 'pa', 'ri', 'sc', 'sd', 'tn', 'tx', 'ut', 'vt',\n",
        "        'va', 'wa', 'wv', 'wi', 'wy'\n",
        "    }\n",
        "\n",
        "    us_state_names = {\n",
        "        'alabama', 'alaska', 'arizona', 'arkansas', 'california', 'colorado', 'connecticut',\n",
        "        'delaware', 'florida', 'georgia', 'hawaii', 'idaho', 'illinois', 'indiana', 'iowa',\n",
        "        'kansas', 'kentucky', 'louisiana', 'maine', 'maryland', 'massachusetts', 'michigan',\n",
        "        'minnesota', 'mississippi', 'missouri', 'montana', 'nebraska', 'nevada', 'new hampshire',\n",
        "        'new jersey', 'new mexico', 'new york', 'north carolina', 'north dakota', 'ohio',\n",
        "        'oklahoma', 'oregon', 'pennsylvania', 'rhode island', 'south carolina', 'south dakota',\n",
        "        'tennessee', 'texas', 'utah', 'vermont', 'virginia', 'washington', 'west virginia',\n",
        "        'wisconsin', 'wyoming'\n",
        "    }\n",
        "\n",
        "    all_country_names = {country.name.lower() for country in pycountry.countries}\n",
        "    all_country_alt_names = set()\n",
        "    for country in pycountry.countries:\n",
        "        all_country_alt_names.update(map(str.lower, [country.name, country.alpha_2, country.alpha_3]))\n",
        "    all_country_names.update(all_country_alt_names)\n",
        "\n",
        "    matches = re.findall(r'\\((.*?)\\)', text)\n",
        "    for match in matches:\n",
        "        parts = re.split(r'[,/]', match)\n",
        "        for part in parts:\n",
        "            cleaned = part.strip()\n",
        "            if cleaned in all_country_names or cleaned in us_state_codes or cleaned in us_state_names:\n",
        "                return cleaned\n",
        "\n",
        "    for token in re.split(r'\\W+', text):\n",
        "        token = token.strip()\n",
        "        if token in all_country_names or token in us_state_codes or token in us_state_names:\n",
        "            return token\n",
        "\n",
        "    return None\n",
        "\n",
        "mask_missing_both = df['state'].isna() & df['country'].isna()\n",
        "df.loc[mask_missing_both, 'state/county'] = df.loc[mask_missing_both, 'city'].apply(extract_country_or_state_from_text)\n"
      ],
      "metadata": {
        "colab": {
          "base_uri": "https://localhost:8080/"
        },
        "id": "LiOkCPrtv54-",
        "outputId": "a4fca6f5-4fef-4369-dc5e-4167327a3b2c",
        "collapsed": true
      },
      "execution_count": 9,
      "outputs": [
        {
          "output_type": "stream",
          "name": "stderr",
          "text": [
            "<ipython-input-9-d0d978af1bc9>:2: SettingWithCopyWarning: \n",
            "A value is trying to be set on a copy of a slice from a DataFrame.\n",
            "Try using .loc[row_indexer,col_indexer] = value instead\n",
            "\n",
            "See the caveats in the documentation: https://pandas.pydata.org/pandas-docs/stable/user_guide/indexing.html#returning-a-view-versus-a-copy\n",
            "  df['state/county'] = np.where(mask_state, df['country'], df['state'])\n"
          ]
        }
      ]
    },
    {
      "cell_type": "markdown",
      "source": [
        "**proccess DF-**\n",
        "\n",
        "To enhance the dataset with potentially predictive information, I extracted several new features from the cleaned datetime column.\n",
        "These include:\n",
        "1. year, month, dayinweek, and hour – standard time-based attributes.\n",
        "2. Weekday/Weekend – derived from the day of the week to indicate whether the sighting occurred on a weekday or during the weekend.\n",
        "3. day/night – based on the hour, labeling sightings as daytime (6:00–18:00) or nighttime (18:00–6:00).\n",
        "4. season – categorized as Winter, Spring, Summer, or Fall depending on the month."
      ],
      "metadata": {
        "id": "LzG89T3l6OJX"
      }
    },
    {
      "cell_type": "code",
      "source": [
        "df['datetime'] = pd.to_datetime(df['datetime_fixed'])\n",
        "df['year'] = df['datetime_fixed'].dt.year\n",
        "df['dayinweek'] = df['datetime_fixed'].dt.dayofweek\n",
        "df['month'] = df['datetime_fixed'].dt.month\n",
        "df['hour'] = df['datetime_fixed'].dt.hour\n",
        "\n",
        "def nightOrDay(hour):\n",
        "  if 6<=hour<18:\n",
        "    return 'day'\n",
        "  else:\n",
        "    return 'night'\n",
        "\n",
        "def season(month):\n",
        "  if month in [12, 1, 2]:\n",
        "      return 'Winter'\n",
        "  elif month in [3, 4, 5]:\n",
        "      return 'Spring'\n",
        "  elif month in [6, 7, 8]:\n",
        "      return 'Summer'\n",
        "  else:\n",
        "      return 'Fall'\n",
        "\n",
        "def weekdayorweekend(day):\n",
        "  if day in [0,1,2,3,4]:\n",
        "    return 'weekday'\n",
        "  else:\n",
        "    return 'weekend'\n",
        "\n",
        "df['Weekday/Weekend'] = df['dayinweek'].apply(weekdayorweekend)\n",
        "df['day\\night'] = df['hour'].apply(nightOrDay)\n",
        "df['season'] = df['month'].apply(season)\n"
      ],
      "metadata": {
        "colab": {
          "base_uri": "https://localhost:8080/"
        },
        "id": "CKp6pvdz5KeL",
        "outputId": "8e56b266-5e50-440f-964d-43e8e2d565af",
        "collapsed": true
      },
      "execution_count": 10,
      "outputs": [
        {
          "output_type": "stream",
          "name": "stderr",
          "text": [
            "<ipython-input-10-d5b5b656307a>:1: SettingWithCopyWarning: \n",
            "A value is trying to be set on a copy of a slice from a DataFrame.\n",
            "Try using .loc[row_indexer,col_indexer] = value instead\n",
            "\n",
            "See the caveats in the documentation: https://pandas.pydata.org/pandas-docs/stable/user_guide/indexing.html#returning-a-view-versus-a-copy\n",
            "  df['datetime'] = pd.to_datetime(df['datetime_fixed'])\n",
            "<ipython-input-10-d5b5b656307a>:2: SettingWithCopyWarning: \n",
            "A value is trying to be set on a copy of a slice from a DataFrame.\n",
            "Try using .loc[row_indexer,col_indexer] = value instead\n",
            "\n",
            "See the caveats in the documentation: https://pandas.pydata.org/pandas-docs/stable/user_guide/indexing.html#returning-a-view-versus-a-copy\n",
            "  df['year'] = df['datetime_fixed'].dt.year\n",
            "<ipython-input-10-d5b5b656307a>:3: SettingWithCopyWarning: \n",
            "A value is trying to be set on a copy of a slice from a DataFrame.\n",
            "Try using .loc[row_indexer,col_indexer] = value instead\n",
            "\n",
            "See the caveats in the documentation: https://pandas.pydata.org/pandas-docs/stable/user_guide/indexing.html#returning-a-view-versus-a-copy\n",
            "  df['dayinweek'] = df['datetime_fixed'].dt.dayofweek\n",
            "<ipython-input-10-d5b5b656307a>:4: SettingWithCopyWarning: \n",
            "A value is trying to be set on a copy of a slice from a DataFrame.\n",
            "Try using .loc[row_indexer,col_indexer] = value instead\n",
            "\n",
            "See the caveats in the documentation: https://pandas.pydata.org/pandas-docs/stable/user_guide/indexing.html#returning-a-view-versus-a-copy\n",
            "  df['month'] = df['datetime_fixed'].dt.month\n",
            "<ipython-input-10-d5b5b656307a>:5: SettingWithCopyWarning: \n",
            "A value is trying to be set on a copy of a slice from a DataFrame.\n",
            "Try using .loc[row_indexer,col_indexer] = value instead\n",
            "\n",
            "See the caveats in the documentation: https://pandas.pydata.org/pandas-docs/stable/user_guide/indexing.html#returning-a-view-versus-a-copy\n",
            "  df['hour'] = df['datetime_fixed'].dt.hour\n",
            "<ipython-input-10-d5b5b656307a>:29: SettingWithCopyWarning: \n",
            "A value is trying to be set on a copy of a slice from a DataFrame.\n",
            "Try using .loc[row_indexer,col_indexer] = value instead\n",
            "\n",
            "See the caveats in the documentation: https://pandas.pydata.org/pandas-docs/stable/user_guide/indexing.html#returning-a-view-versus-a-copy\n",
            "  df['Weekday/Weekend'] = df['dayinweek'].apply(weekdayorweekend)\n",
            "<ipython-input-10-d5b5b656307a>:30: SettingWithCopyWarning: \n",
            "A value is trying to be set on a copy of a slice from a DataFrame.\n",
            "Try using .loc[row_indexer,col_indexer] = value instead\n",
            "\n",
            "See the caveats in the documentation: https://pandas.pydata.org/pandas-docs/stable/user_guide/indexing.html#returning-a-view-versus-a-copy\n",
            "  df['day\\night'] = df['hour'].apply(nightOrDay)\n",
            "<ipython-input-10-d5b5b656307a>:31: SettingWithCopyWarning: \n",
            "A value is trying to be set on a copy of a slice from a DataFrame.\n",
            "Try using .loc[row_indexer,col_indexer] = value instead\n",
            "\n",
            "See the caveats in the documentation: https://pandas.pydata.org/pandas-docs/stable/user_guide/indexing.html#returning-a-view-versus-a-copy\n",
            "  df['season'] = df['month'].apply(season)\n"
          ]
        }
      ]
    },
    {
      "cell_type": "markdown",
      "source": [
        "**Create data for target value - feature aggregation by Year and State:**\n",
        "\n",
        "To prepare the data for modeling, I constructed an aggregated feature table where each row corresponds to a unique (year, state/county) pair.\n",
        "This table summarizes the distribution of various categorical and temporal attributes across UFO sightings reported in that year and location.\n",
        "\n",
        "1. Shape Distribution:\n",
        "I grouped rare shapes (those with fewer than 100 occurrences) into an \"Other\" category, then calculated the relative frequency of each shape using a normalized crosstab.\n",
        "The result is a set of percentage-based columns representing the proportion of sightings for each shape per year and state.\n",
        "2. Average Duration:\n",
        "For each (year, state/county) group, I calculated the average log(duration) to reduce skewness and minimize the effect of extreme outliers.\n",
        "This feature captures the typical duration of sightings in a given year and location.\n",
        "3. More feature:\n",
        "Additional features include the proportion of sightings during weekdays vs. weekends, in each season (Winter, Spring, Summer, Fall), and during day vs. night.\n",
        "These were also calculated using normalized crosstabs to reflect their distribution within each group.\n",
        "\n",
        "All of these components were merged into new table (df_target) using a left join."
      ],
      "metadata": {
        "id": "9i6Cc1LAEnQp"
      }
    },
    {
      "cell_type": "code",
      "source": [
        "#Shape Distribution\n",
        "shape_counts = df['shape'].value_counts()\n",
        "rare_shapes = shape_counts[shape_counts < 100].index\n",
        "df['shape_grouped'] = df['shape'].apply(lambda x: x if x not in rare_shapes else 'Other')\n",
        "\n",
        "shape_crosstab = pd.crosstab(\n",
        "    index=[df['year'], df['state/county']],\n",
        "    columns=df['shape_grouped'],\n",
        "    normalize='index'\n",
        ").reset_index()\n",
        "shape_crosstab = shape_crosstab.fillna(0)\n",
        "\n",
        "#Average Duration\n",
        "df_target = df.groupby(['year', 'state/county']).size().reset_index(name='num_events')\n",
        "df['log_duration'] = np.log1p(df['duration_clean'])\n",
        "df_log_duration = df.groupby(['year', 'state/county'])['log_duration'].mean().reset_index(name='avg_log_duration')\n",
        "\n",
        "#Proportion of sightings during weekdays vs. weekends\n",
        "WeekdayWeekend_crosstab = pd.crosstab(\n",
        "    index=[df['year'], df['state/county']],\n",
        "    columns=df['Weekday/Weekend'],\n",
        "    normalize='index'\n",
        ").reset_index()\n",
        "WeekdayWeekend_crosstab = WeekdayWeekend_crosstab.fillna(0)\n",
        "\n",
        "#Proportion of sightings during seasons\n",
        "season_crosstab = pd.crosstab(\n",
        "    index=[df['year'], df['state/county']],\n",
        "    columns=df['season'],\n",
        "    normalize='index'\n",
        ").reset_index()\n",
        "season_crosstab = season_crosstab.fillna(0)\n",
        "\n",
        "#Proportion of sightings during day vs. night\n",
        "nightorday_crosstab = pd.crosstab(\n",
        "    index=[df['year'], df['state/county']],\n",
        "    columns=df['day\\night'],\n",
        "    normalize='index'\n",
        ").reset_index()\n",
        "nightorday_crosstab = nightorday_crosstab.fillna(0)\n",
        "\n",
        "#Left join for all the components\n",
        "df_list= [df_log_duration,shape_crosstab,WeekdayWeekend_crosstab,season_crosstab,nightorday_crosstab]\n",
        "for val in df_list:\n",
        "  df_target = pd.merge(df_target, val, on=['year', 'state/county'], how='left')"
      ],
      "metadata": {
        "colab": {
          "base_uri": "https://localhost:8080/"
        },
        "id": "7IDI6WTkEniv",
        "outputId": "84b9914e-724e-48c4-a0f8-e088f60c07cb",
        "collapsed": true
      },
      "execution_count": 11,
      "outputs": [
        {
          "output_type": "stream",
          "name": "stderr",
          "text": [
            "<ipython-input-11-c638d6f3d605>:4: SettingWithCopyWarning: \n",
            "A value is trying to be set on a copy of a slice from a DataFrame.\n",
            "Try using .loc[row_indexer,col_indexer] = value instead\n",
            "\n",
            "See the caveats in the documentation: https://pandas.pydata.org/pandas-docs/stable/user_guide/indexing.html#returning-a-view-versus-a-copy\n",
            "  df['shape_grouped'] = df['shape'].apply(lambda x: x if x not in rare_shapes else 'Other')\n",
            "<ipython-input-11-c638d6f3d605>:15: SettingWithCopyWarning: \n",
            "A value is trying to be set on a copy of a slice from a DataFrame.\n",
            "Try using .loc[row_indexer,col_indexer] = value instead\n",
            "\n",
            "See the caveats in the documentation: https://pandas.pydata.org/pandas-docs/stable/user_guide/indexing.html#returning-a-view-versus-a-copy\n",
            "  df['log_duration'] = np.log1p(df['duration_clean'])\n"
          ]
        }
      ]
    },
    {
      "cell_type": "markdown",
      "source": [
        "**Filtering countries\\states with insufficient historical data-**\n",
        "\n",
        "To ensure model reliability and reduce noise, we filtered out state/county values with insufficient historical data.\n",
        "Specifically, we computed the number of distinct years with observations per state and removed any state that appeared in fewer than 10 years.\n",
        "\n",
        "To support this threshold choice, we also calculated the median and mean number of years per state.\n",
        "Using the median helps mitigate the influence of outliers (e.g., states with extremely long or short reporting histories), ensuring that we neither over-filter nor under-filter the data.\n",
        "This step helps focus the modeling on locations with enough historical variation to support meaningful prediction.\n"
      ],
      "metadata": {
        "id": "utYP0k33LNrJ"
      }
    },
    {
      "cell_type": "code",
      "source": [
        "state_year_counts = df_target.groupby('state/county')['year'].nunique().reset_index(name='num_years')\n",
        "low_year_states = state_year_counts[state_year_counts['num_years'] < 10]['state/county']\n",
        "df_target = df_target[~df_target['state/county'].isin(low_year_states)]\n",
        "\n",
        "# fmedian = state_year_counts['num_years'].median()\n",
        "# fmedian\n",
        "# fmean = state_year_counts['num_years'].mean()\n",
        "# fmean"
      ],
      "metadata": {
        "id": "0-R6alYNLWUM"
      },
      "execution_count": 12,
      "outputs": []
    },
    {
      "cell_type": "markdown",
      "source": [
        "**Create predict DF-**\n",
        "\n",
        "In order to perform valid forecasting, it is crucial to avoid using aggregated information from the same year we are trying to predict.\n",
        "Using such data would result in information leakage, where the model learns from the very outcome it’s supposed to forecast.\n",
        "\n",
        "To address this, I constructed a predictive dataset in which each row represents a specific (year, state/county) pair, but the features are based solely on data from previous years.\n",
        "This was done using a rolling mean over a fixed window of 3 prior years (rolling(window=3, min_periods=3)), applied separately for each state.\n",
        "By applying a shift(1) before the rolling operation, I ensured that only data strictly before the current year contributed to the features.\n",
        "\n",
        "This guarantees that each row in the training set represents what would have been known at the time — making the modeling process both realistic and temporally valid."
      ],
      "metadata": {
        "id": "Dtkdu5PzDPXo"
      }
    },
    {
      "cell_type": "code",
      "source": [
        "df_sorted = df_target.sort_values(by=['state/county', 'year'])\n",
        "\n",
        "rolling_features = []\n",
        "n_years = 3\n",
        "\n",
        "for col in df_target.columns:\n",
        "    if col not in ['year', 'state/county', 'num_events']:\n",
        "        rolled = df_sorted.groupby('state/county')[col].shift(1).rolling(window=n_years, min_periods=n_years).mean()\n",
        "        df_sorted[f'{col}_prev{n_years}'] = rolled\n",
        "        rolling_features.append(f'{col}_prev{n_years}')\n",
        "df_final = df_sorted.dropna(subset=rolling_features + ['num_events'])"
      ],
      "metadata": {
        "id": "KbM4ymG_DS34"
      },
      "execution_count": 13,
      "outputs": []
    },
    {
      "cell_type": "markdown",
      "source": [
        "**Train/Test Split**\n",
        "\n",
        "After constructing the predictive dataset with lagged features, I split the data into training and testing sets using a 75/25 ratio.\n",
        "The split was performed randomly but with a fixed random_state to ensure reproducibility."
      ],
      "metadata": {
        "id": "DJ6iZIgRDeNe"
      }
    },
    {
      "cell_type": "code",
      "source": [
        "X = df_final[rolling_features]\n",
        "y = df_final['num_events']\n",
        "X_train, X_test, y_train, y_test = train_test_split(\n",
        "    X, y, test_size=0.25, random_state=42\n",
        ")"
      ],
      "metadata": {
        "id": "PzQ5X8__Dehs"
      },
      "execution_count": 14,
      "outputs": []
    },
    {
      "cell_type": "markdown",
      "source": [
        "**Model Selection – Random Forest Regressor**\n",
        "\n",
        "To model the number of UFO sightings per year and state, I selected a regression model — as the target variable is continuous, not categorical.\n",
        "\n",
        "I initially experimented with linear regression, but due to the lack of linear relationships between features and the target, the results were poor and often unrealistic.\n",
        "This led me to explore more regression models and specifically the Random Forest Regressor, which proved better suited to the structure and limitations of the data.\n",
        "I had previously studied decision trees in the context of classification during an Introduction to Data Engineering course, and that make me interest in learn and applying this model for regression task.\n",
        "\n",
        "The decision to use Random Forest was motivated by several key advantages that match to handling the problems in the task data:\n",
        "1. Nonlinear Modeling Capability:\n",
        "Random Forests can model complex, nonlinear relationships.\n",
        "2. Robustness to Outliers:\n",
        "Since the model aggregates predictions from multiple decision trees (each trained on random feature subsets), it is less sensitive to extreme values in the data.\n",
        "3. Reduced Overfitting:\n",
        "Instead of relying on a single tree (which is prone to overfitting), Random Forest combines many shallow trees and averages their outputs.\n",
        "4. Works Well on Small Datasets:\n",
        "Given the relatively small size of the engineered dataset (after filtering by year and location), Random Forests are a strong option, as they don’t require large sample sizes for effective learning.\n",
        "\n",
        "Initially, I trained the model with default hyperparameters. However, this resulted in overfitting — for example, the model achieved an R² of 0.97 on the training set, while performing poorly on the test set.\n",
        "To mitigate this,  I restricted the model’s complexity by limiting both the number and size of the trees.\n",
        "Specifically, I reduced the maximum tree depth, required a minimum number of samples in each leaf node, and limited the number of features considered at each split.\n",
        "These constraints were introduced to ensure the model learns generalizable patterns from the data rather than memorizing the training set.\n",
        "\n",
        "The final model configuration achieved a good balance between bias and variance, with solid predictive performance across unseen data.\n",
        "\n",
        "\n"
      ],
      "metadata": {
        "id": "VMaEaBNbMgZg"
      }
    },
    {
      "cell_type": "code",
      "source": [
        "model = RandomForestRegressor(\n",
        "    n_estimators=100,\n",
        "    max_depth=10,\n",
        "    min_samples_leaf=10,\n",
        "    max_features='sqrt',\n",
        "    random_state=42\n",
        ")\n",
        "model.fit(X_train, y_train)\n",
        "y_pred = model.predict(X_test)"
      ],
      "metadata": {
        "id": "l4lQh_ewMhf_"
      },
      "execution_count": 15,
      "outputs": []
    },
    {
      "cell_type": "markdown",
      "source": [
        "**Model Evaluation and Interpretation of Results**\n",
        "\n",
        "To evaluate the predictive performance of the model, I used three standard regression metrics:\n",
        "\n",
        "**RMSE** (Root Mean Squared Error) – measures the square root of the average squared differences between predicted and actual values. It penalizes large errors more heavily and is expressed in the same units as the target variable. Lower values indicate better accuracy and fewer large mistakes.\n",
        "\n",
        "**MAE** (Mean Absolute Error) – calculates the average absolute difference between predictions and true values. It is more robust to outliers than RMSE, and provides a simple interpretation: how far off predictions are, on average.\n",
        "\n",
        "**R²** (Coefficient of Determination) – represents the proportion of variance in the target variable explained by the model. Values closer to 1 indicate stronger explanatory power, while values near 0 imply poor fit.\n",
        "\n",
        "1. **Results on the Test Set**\n",
        "  - Test RMSE: 31.17\n",
        "  - Test MAE: 9.86\n",
        "  - Test R²: 0.695\n",
        "\n",
        "  These results suggest that the model has a moderate error margin.\n",
        "  On average, it misses the correct value by about 11 sightings per year and state (MAE), but some predictions may deviate by significantly more — as reflected by the higher RMSE.\n",
        "  The gap between RMSE and MAE highlights the presence of a few large prediction errors, likely due to outliers.\n",
        "  However, an R² of 0.695 shows that the model captures approximately 70% of the variance, which is a strong result considering the noisy and irregular nature of the data.\n",
        "\n",
        "2. **Overfitting Analysis via Train/Test Comparison**\n",
        "  To assess overfitting, I also evaluated the model on the training data:\n",
        "  - Train RMSE: 25.1\n",
        "  - Train MAE: 8.933\n",
        "  - Train R²: 0.777\n",
        "\n",
        "  As expected, the training error is slightly lower, but the performance gap between train and test sets is not extreme.\n",
        "  This indicates that the model generalizes well and is not overfitting — it learns meaningful patterns without simply memorizing the training set.\n",
        "\n",
        "Overall, the model balances accuracy and generalization effectively. It delivers stable predictions across diverse regions and years, while remaining resilient to noise and irregularities in the data."
      ],
      "metadata": {
        "id": "-fUJDffDJ-kn"
      }
    },
    {
      "cell_type": "code",
      "source": [
        "mse = mean_squared_error(y_test, y_pred)\n",
        "rmse = np.sqrt(mse)\n",
        "mae = mean_absolute_error(y_test, y_pred)\n",
        "r2 = r2_score(y_test, y_pred)\n",
        "\n",
        "print(\"\\nTest Set Performance:\")\n",
        "print(\" - Test RMSE:\", rmse)\n",
        "print(\" - Test MAE:\", mae)\n",
        "print(\" - Test R²:\", r2)\n",
        "\n",
        "y_train_pred = model.predict(X_train)\n",
        "\n",
        "rmse_train = np.sqrt(mean_squared_error(y_train, y_train_pred))\n",
        "mae_train = mean_absolute_error(y_train, y_train_pred)\n",
        "r2_train = r2_score(y_train, y_train_pred)\n",
        "\n",
        "print(\"\\nTraining Set Performance:\")\n",
        "print(\" - Train RMSE:\", rmse_train)\n",
        "print(\" - Train MAE:\", mae_train)\n",
        "print(\" - Train R²:\", r2_train)"
      ],
      "metadata": {
        "colab": {
          "base_uri": "https://localhost:8080/",
          "height": 199
        },
        "id": "63zB5G1zKQIr",
        "outputId": "08751cf3-d531-43ef-9d4c-469e35d4227b"
      },
      "execution_count": 27,
      "outputs": [
        {
          "output_type": "stream",
          "name": "stdout",
          "text": [
            "\n",
            "Test Set Performance:\n",
            " - Test RMSE: 31.173081464608952\n",
            " - Test MAE: 9.856637118998858\n",
            " - Test R²: 0.6947922491832672\n",
            "\n",
            "Training Set Performance:\n",
            " - Train RMSE: 25.107672028897113\n",
            " - Train MAE: 8.933039304201586\n",
            " - Train R²: 0.7866848543643826\n"
          ]
        },
        {
          "output_type": "display_data",
          "data": {
            "text/plain": [
              "<IPython.core.display.Javascript object>"
            ],
            "application/javascript": [
              "\n",
              "    async function download(id, filename, size) {\n",
              "      if (!google.colab.kernel.accessAllowed) {\n",
              "        return;\n",
              "      }\n",
              "      const div = document.createElement('div');\n",
              "      const label = document.createElement('label');\n",
              "      label.textContent = `Downloading \"${filename}\": `;\n",
              "      div.appendChild(label);\n",
              "      const progress = document.createElement('progress');\n",
              "      progress.max = size;\n",
              "      div.appendChild(progress);\n",
              "      document.body.appendChild(div);\n",
              "\n",
              "      const buffers = [];\n",
              "      let downloaded = 0;\n",
              "\n",
              "      const channel = await google.colab.kernel.comms.open(id);\n",
              "      // Send a message to notify the kernel that we're ready.\n",
              "      channel.send({})\n",
              "\n",
              "      for await (const message of channel.messages) {\n",
              "        // Send a message to notify the kernel that we're ready.\n",
              "        channel.send({})\n",
              "        if (message.buffers) {\n",
              "          for (const buffer of message.buffers) {\n",
              "            buffers.push(buffer);\n",
              "            downloaded += buffer.byteLength;\n",
              "            progress.value = downloaded;\n",
              "          }\n",
              "        }\n",
              "      }\n",
              "      const blob = new Blob(buffers, {type: 'application/binary'});\n",
              "      const a = document.createElement('a');\n",
              "      a.href = window.URL.createObjectURL(blob);\n",
              "      a.download = filename;\n",
              "      div.appendChild(a);\n",
              "      a.click();\n",
              "      div.remove();\n",
              "    }\n",
              "  "
            ]
          },
          "metadata": {}
        },
        {
          "output_type": "display_data",
          "data": {
            "text/plain": [
              "<IPython.core.display.Javascript object>"
            ],
            "application/javascript": [
              "download(\"download_4167e8f5-4c37-4997-9806-f6564049dc8d\", \"task1_model_metrics_test.png\", 8992)"
            ]
          },
          "metadata": {}
        }
      ]
    },
    {
      "cell_type": "markdown",
      "source": [
        "**Actual vs. Predicted Sightings - scatter plot:**\n",
        "\n",
        "The scatter plot compares actual versus predicted sightings for each year-state pair.\n",
        "Most predictions cluster near the red reference line, indicating that the model performs reasonably well across typical ranges.\n",
        "However, the model tends to underpredict extreme values, as seen in cases where the true number of sightings exceeds 300."
      ],
      "metadata": {
        "id": "Mi8lya6hfd0v"
      }
    },
    {
      "cell_type": "code",
      "source": [
        "plt.figure(figsize=(8, 6))\n",
        "sns.scatterplot(x=y_test, y=y_pred)\n",
        "plt.plot([y_test.min(), y_test.max()], [y_test.min(), y_test.max()], '--', color='red')\n",
        "plt.xlabel('Actual Sightings')\n",
        "plt.ylabel('Predicted Sightings')\n",
        "plt.title('Actual vs. Predicted Sightings')\n",
        "plt.tight_layout()\n",
        "plt.show()\n"
      ],
      "metadata": {
        "colab": {
          "base_uri": "https://localhost:8080/",
          "height": 562
        },
        "id": "y9D8EfOfeehW",
        "outputId": "543ce46f-e052-4b77-bdad-275d12adeb33"
      },
      "execution_count": 22,
      "outputs": [
        {
          "output_type": "display_data",
          "data": {
            "text/plain": [
              "<Figure size 800x600 with 1 Axes>"
            ],
            "image/png": "[encoded data removed]"
          },
          "metadata": {}
        },
        {
          "output_type": "display_data",
          "data": {
            "text/plain": [
              "<IPython.core.display.Javascript object>"
            ],
            "application/javascript": [
              "\n",
              "    async function download(id, filename, size) {\n",
              "      if (!google.colab.kernel.accessAllowed) {\n",
              "        return;\n",
              "      }\n",
              "      const div = document.createElement('div');\n",
              "      const label = document.createElement('label');\n",
              "      label.textContent = `Downloading \"${filename}\": `;\n",
              "      div.appendChild(label);\n",
              "      const progress = document.createElement('progress');\n",
              "      progress.max = size;\n",
              "      div.appendChild(progress);\n",
              "      document.body.appendChild(div);\n",
              "\n",
              "      const buffers = [];\n",
              "      let downloaded = 0;\n",
              "\n",
              "      const channel = await google.colab.kernel.comms.open(id);\n",
              "      // Send a message to notify the kernel that we're ready.\n",
              "      channel.send({})\n",
              "\n",
              "      for await (const message of channel.messages) {\n",
              "        // Send a message to notify the kernel that we're ready.\n",
              "        channel.send({})\n",
              "        if (message.buffers) {\n",
              "          for (const buffer of message.buffers) {\n",
              "            buffers.push(buffer);\n",
              "            downloaded += buffer.byteLength;\n",
              "            progress.value = downloaded;\n",
              "          }\n",
              "        }\n",
              "      }\n",
              "      const blob = new Blob(buffers, {type: 'application/binary'});\n",
              "      const a = document.createElement('a');\n",
              "      a.href = window.URL.createObjectURL(blob);\n",
              "      a.download = filename;\n",
              "      div.appendChild(a);\n",
              "      a.click();\n",
              "      div.remove();\n",
              "    }\n",
              "  "
            ]
          },
          "metadata": {}
        },
        {
          "output_type": "display_data",
          "data": {
            "text/plain": [
              "<IPython.core.display.Javascript object>"
            ],
            "application/javascript": [
              "download(\"download_c004704c-3355-4ed3-9e15-2131c051e2bf\", \"task1_actual_vs_predicted.png\", 2397)"
            ]
          },
          "metadata": {}
        }
      ]
    },
    {
      "cell_type": "markdown",
      "source": [
        "**Importance Feature barplot:**\n",
        "\n",
        "The feature importance plot shows that the most influential variables in the model are the relative frequencies of specific UFO shapes over the previous three years.\n",
        "Shapes such as \"cross\", \"cone\", and \"chevron\" had the highest predictive power, indicating that certain sighting patterns are historically correlated with future sighting volume.\n",
        "This suggests that the type of reported shape plays a significant role in anticipating future UFO activity within a given region."
      ],
      "metadata": {
        "id": "nBsYbGTXgUcr"
      }
    },
    {
      "cell_type": "code",
      "source": [
        "importances = model.feature_importances_\n",
        "feature_names = X.columns\n",
        "\n",
        "feat_imp_df = pd.DataFrame({'Feature': feature_names, 'Importance': importances})\n",
        "feat_imp_df = feat_imp_df.sort_values(by='Importance', ascending=False)\n",
        "\n",
        "plt.figure(figsize=(10, 6))\n",
        "sns.barplot(x='Importance', y='Feature', data=feat_imp_df.head(20))\n",
        "plt.title('Top 20 Feature Importances')\n",
        "plt.tight_layout()\n",
        "plt.show()"
      ],
      "metadata": {
        "colab": {
          "base_uri": "https://localhost:8080/",
          "height": 453
        },
        "id": "NSIEsZMFe8Ux",
        "outputId": "14e14399-a83a-4a6b-cc5c-0d70a23178cc"
      },
      "execution_count": 21,
      "outputs": [
        {
          "output_type": "display_data",
          "data": {
            "text/plain": [
              "<Figure size 1000x600 with 1 Axes>"
            ],
            "image/png": "[encoded data removed]"
          },
          "metadata": {}
        },
        {
          "output_type": "display_data",
          "data": {
            "text/plain": [
              "<IPython.core.display.Javascript object>"
            ],
            "application/javascript": [
              "\n",
              "    async function download(id, filename, size) {\n",
              "      if (!google.colab.kernel.accessAllowed) {\n",
              "        return;\n",
              "      }\n",
              "      const div = document.createElement('div');\n",
              "      const label = document.createElement('label');\n",
              "      label.textContent = `Downloading \"${filename}\": `;\n",
              "      div.appendChild(label);\n",
              "      const progress = document.createElement('progress');\n",
              "      progress.max = size;\n",
              "      div.appendChild(progress);\n",
              "      document.body.appendChild(div);\n",
              "\n",
              "      const buffers = [];\n",
              "      let downloaded = 0;\n",
              "\n",
              "      const channel = await google.colab.kernel.comms.open(id);\n",
              "      // Send a message to notify the kernel that we're ready.\n",
              "      channel.send({})\n",
              "\n",
              "      for await (const message of channel.messages) {\n",
              "        // Send a message to notify the kernel that we're ready.\n",
              "        channel.send({})\n",
              "        if (message.buffers) {\n",
              "          for (const buffer of message.buffers) {\n",
              "            buffers.push(buffer);\n",
              "            downloaded += buffer.byteLength;\n",
              "            progress.value = downloaded;\n",
              "          }\n",
              "        }\n",
              "      }\n",
              "      const blob = new Blob(buffers, {type: 'application/binary'});\n",
              "      const a = document.createElement('a');\n",
              "      a.href = window.URL.createObjectURL(blob);\n",
              "      a.download = filename;\n",
              "      div.appendChild(a);\n",
              "      a.click();\n",
              "      div.remove();\n",
              "    }\n",
              "  "
            ]
          },
          "metadata": {}
        },
        {
          "output_type": "display_data",
          "data": {
            "text/plain": [
              "<IPython.core.display.Javascript object>"
            ],
            "application/javascript": [
              "download(\"download_0bdf9337-1f17-4ba3-aff8-a63233edf033\", \"task1_feature_importance.png\", 2397)"
            ]
          },
          "metadata": {}
        }
      ]
    }
  ]
}